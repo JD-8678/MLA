{
 "cells": [
  {
   "cell_type": "code",
   "execution_count": 1,
   "metadata": {},
   "outputs": [],
   "source": [
    "from vaderSentiment.vaderSentiment import SentimentIntensityAnalyzer\n",
    "import nltk\n",
    "import requests\n",
    "from bs4 import BeautifulSoup"
   ]
  },
  {
   "cell_type": "code",
   "execution_count": 2,
   "metadata": {},
   "outputs": [],
   "source": [
    "def url_to_transcript(url):\n",
    "    page = requests.get(url).text\n",
    "    soup = BeautifulSoup(page, \"lxml\")\n",
    "    paragraph_list = soup.find_all('p')\n",
    "    paragraph_text = ''\n",
    "    for paragraph in paragraph_list:\n",
    "        paragraph_text = paragraph_text + '\\n' + paragraph.get_text()\n",
    "    return paragraph_text"
   ]
  },
  {
   "cell_type": "code",
   "execution_count": 3,
   "metadata": {},
   "outputs": [
    {
     "name": "stdout",
     "output_type": "stream",
     "text": [
      "62\n",
      "\n",
      "Advertisement\n",
      "Supported by\n",
      "With cases surging, some cities are seeing long testing lines and slow results. {'neg': 0.0, 'neu': 0.867, 'pos': 0.133, 'compound': 0.3182}\n",
      "By Sarah Mervosh and Manny Fernandez\n",
      "Lines for coronavirus tests have stretched around city blocks and tests ran out altogether in at least one site on Monday, new evidence that the country is still struggling to create a sufficient testing system months into its battle with Covid-19. {'neg': 0.139, 'neu': 0.821, 'pos': 0.04, 'compound': -0.6369}\n",
      "At a testing site in New Orleans, a line formed at dawn. {'neg': 0.0, 'neu': 1.0, 'pos': 0.0, 'compound': 0.0}\n",
      "But city officials ran out of tests five minutes after the doors opened at 8 a.m., and many people had to be turned away. {'neg': 0.0, 'neu': 1.0, 'pos': 0.0, 'compound': 0.0}\n",
      "In Phoenix, where temperatures have topped 100 degrees, residents have waited in cars for as long as eight hours to get tested. {'neg': 0.0, 'neu': 1.0, 'pos': 0.0, 'compound': 0.0}\n",
      "And in San Antonio and other large cities with mounting caseloads of the virus, officials have reluctantly announced new limits to testing: The demand has grown too great, they say, so only people showing symptoms may now be tested — a return to restrictions that were in place in many parts of the country during earlier days of the virus. {'neg': 0.045, 'neu': 0.891, 'pos': 0.064, 'compound': 0.4939}\n",
      "“It’s terrifying, and clearly an evidence of a failure of the system,” said Dr. Morgan Katz, an infectious disease expert at Johns Hopkins Hospital. {'neg': 0.228, 'neu': 0.684, 'pos': 0.088, 'compound': -0.6486}\n",
      "In the early months of the nation’s outbreak, testing posed a significant problem, as supplies fell far short and officials raced to understand how to best handle the virus. {'neg': 0.078, 'neu': 0.749, 'pos': 0.173, 'compound': 0.5106}\n",
      "Since then, the United States has vastly ramped up its testing capability, conducting nearly 15 million tests in June, about three times as many as it had in April. {'neg': 0.0, 'neu': 0.909, 'pos': 0.091, 'compound': 0.4215}\n",
      "But in recent weeks, as cases have surged in many states, the demand for testing has soared, surpassing capacity and creating a new testing crisis. {'neg': 0.23, 'neu': 0.683, 'pos': 0.087, 'compound': -0.6808}\n",
      "In many cities, officials said a combination of factors was now fueling the problem: a shortage of certain supplies, backlogs at laboratories that process the tests, and skyrocketing growth of the virus as cases climb in almost 40 states and the nation approaches a grim new milestone of three million total cases. {'neg': 0.14, 'neu': 0.782, 'pos': 0.078, 'compound': -0.5719}\n",
      "Fast, widely available testing is crucial to controlling the virus over the long term in the United States, experts say, particularly as the country reopens. {'neg': 0.0, 'neu': 0.896, 'pos': 0.104, 'compound': 0.4215}\n",
      "With a virus that can spread through asymptomatic people, screening large numbers of people is seen as essential to identifying those who are carrying the virus and helping stop them from spreading it to others. {'neg': 0.059, 'neu': 0.882, 'pos': 0.059, 'compound': 0.0}\n",
      "But the images of long lines at testing sites and complaints from mayors about the lack of a coordinated, overarching federal testing system have placed the White House on the defensive. {'neg': 0.182, 'neu': 0.785, 'pos': 0.032, 'compound': -0.7469}\n",
      "President Trump tweeted on Monday that “our great testing program continues to lead the World, by FAR!” Vice President Mike Pence said last week that the country had so improved its testing capacity that “we will literally test anyone who comes into a testing site or comes to their local pharmacy.”\n",
      "A spokeswoman for the Department of Health and Human Services said federal officials had been working closely with states to develop and meet testing goals since early April. {'neg': 0.0, 'neu': 0.902, 'pos': 0.098, 'compound': 0.8549}\n",
      "So far, she said, the federal government has distributed about 26 million swabs nationwide, among other equipment, and was on track to “meet all the needs for July.”\n",
      "But testing in the United States has not kept pace with other countries, notably in Asia, which have been more aggressive. {'neg': 0.044, 'neu': 0.886, 'pos': 0.07, 'compound': 0.3314}\n",
      "Chinese officials who were monitoring infections in Wuhan, where the pandemic began, tested 6.5 million people in a matter of days in May. {'neg': 0.0, 'neu': 0.952, 'pos': 0.048, 'compound': 0.0258}\n",
      "In Arizona, where reported cases have grown to more than 100,000, a shortage of testing has alarmed local officials, who say they feel ill-equipped to help residents on their own. {'neg': 0.129, 'neu': 0.792, 'pos': 0.079, 'compound': -0.1779}\n",
      "“The United States of America needs a more robust national testing strategy,” Mayor Kate Gallego of Phoenix said in an interview. {'neg': 0.0, 'neu': 0.776, 'pos': 0.224, 'compound': 0.6697}\n",
      "Ms. Gallego, a Democrat, said she had been scrambling to lobby for help from anyone she could think of — the federal government, private companies like Walgreens, even a middle school friend who works at a European testing company. {'neg': 0.0, 'neu': 0.787, 'pos': 0.213, 'compound': 0.8176}\n",
      "As the crisis has intensified in her state in recent weeks, she suggested that testing resources could be shifted from states with decreasing needs to those struggling like hers. {'neg': 0.195, 'neu': 0.734, 'pos': 0.071, 'compound': -0.6597}\n",
      "Arizona once had a stockpile of supplies, state officials say, but the surge in cases since Memorial Day has drained even basic items for testing, like swabs. {'neg': 0.103, 'neu': 0.794, 'pos': 0.103, 'compound': 0.0}\n",
      "“That really speaks to the national and global supply chain issues,” said Daniel Ruiz, Arizona’s chief operating officer. {'neg': 0.0, 'neu': 1.0, 'pos': 0.0, 'compound': 0.0}\n",
      "“It’s not that these things are in a warehouse ready to be delivered.”\n",
      "All along, the United States has struggled with issues tied to testing. {'neg': 0.081, 'neu': 0.741, 'pos': 0.178, 'compound': 0.4404}\n",
      "In February, the federal government shipped a tainted testing kit to states, delaying a broader testing strategy and leaving states blind to a virus that was already beginning to circulate. {'neg': 0.085, 'neu': 0.915, 'pos': 0.0, 'compound': -0.4019}\n",
      "Later, testing supplies became a choke point, and states called on the federal government to use the Defense Production Act to force additional production. {'neg': 0.13, 'neu': 0.815, 'pos': 0.056, 'compound': -0.4588}\n",
      "Many places have been able to overcome some of the supply constraints that defined the earlier days of the outbreak, in part with their own resources. {'neg': 0.0, 'neu': 1.0, 'pos': 0.0, 'compound': 0.0}\n",
      "New York City, once faced with severe shortages as an epicenter of the virus, is now testing 30,000 people a day, officials say, an expansion that included the city building its own testing kits and partnering with private labs. {'neg': 0.102, 'neu': 0.898, 'pos': 0.0, 'compound': -0.4939}\n",
      "But even as Gov. {'neg': 0.0, 'neu': 1.0, 'pos': 0.0, 'compound': 0.0}\n",
      "Andrew M. Cuomo announced last week that anyone in New York State who wanted a test could get one, officials in other states have been left seeking a more robust testing system, and setting new limits on who can take one. {'neg': 0.0, 'neu': 0.937, 'pos': 0.063, 'compound': 0.4005}\n",
      "“We are too fragmented,” said Dr. Michael Mina, an assistant professor of epidemiology at Harvard’s T.H. {'neg': 0.0, 'neu': 1.0, 'pos': 0.0, 'compound': 0.0}\n",
      "Chan School of Public Health. {'neg': 0.0, 'neu': 1.0, 'pos': 0.0, 'compound': 0.0}\n",
      "“We don’t have a good way to load-balance the system.”\n",
      "Testing delays and shortages have increasingly become a problem in Texas, where cases are surging. {'neg': 0.147, 'neu': 0.753, 'pos': 0.099, 'compound': -0.1027}\n",
      "Cities like San Antonio and Austin have reverted to testing only those who are showing symptoms as a way to manage the demand and a backlog of tests. {'neg': 0.05, 'neu': 0.867, 'pos': 0.083, 'compound': 0.25}\n",
      "“We’re now focused on the highest priorities,” Mayor Steve Adler of Austin said on Monday. {'neg': 0.0, 'neu': 0.843, 'pos': 0.157, 'compound': 0.3818}\n",
      "Mr. Adler, a Democrat, said the testing crunch was the result of the demand for tests statewide, brought on by the uptick in coronavirus cases after Texas reopened in fast-moving phases starting on May 1. {'neg': 0.042, 'neu': 0.958, 'pos': 0.0, 'compound': -0.128}\n",
      "He attributed the problem in large part to a backlog at laboratories; in some cases, test results take four to six days, far longer than the 24 hours health experts recommend to most effectively isolate the ill and track people they have had contact with. {'neg': 0.142, 'neu': 0.751, 'pos': 0.107, 'compound': -0.2228}\n",
      "Local officials in Austin had not relied on the state when it came to testing for the most part, the mayor said. {'neg': 0.0, 'neu': 1.0, 'pos': 0.0, 'compound': 0.0}\n",
      "And without a national testing program, he said, city and county officials had to fend for themselves in the private market. {'neg': 0.0, 'neu': 1.0, 'pos': 0.0, 'compound': 0.0}\n",
      "“Maybe in retrospect if we had thought about this a half-year ago, we would have set up our own testing capacity,” Mr. Adler said. {'neg': 0.0, 'neu': 1.0, 'pos': 0.0, 'compound': 0.0}\n",
      "“I don’t know what else we’d do. {'neg': 0.0, 'neu': 1.0, 'pos': 0.0, 'compound': 0.0}\n",
      "We were out competing for tests. {'neg': 0.0, 'neu': 1.0, 'pos': 0.0, 'compound': 0.0}\n",
      "We were blocking up as many tests as we could block up on the market.”\n",
      "Mr. Adler said the testing system needed to be federalized, so that Austin and other cities would not have to compete for testing labs and supplies with other cities and other states. {'neg': 0.109, 'neu': 0.891, 'pos': 0.0, 'compound': -0.6705}\n",
      "The problem extends far beyond Texas and Arizona, among the hot spots that have led the country in rising cases in recent weeks. {'neg': 0.107, 'neu': 0.833, 'pos': 0.06, 'compound': -0.296}\n",
      "In Idaho, where cases were also climbing, the state lab was so inundated that state officials sent a memo to nursing homes and long-term care facilities, saying the state could no longer meet all their testing needs. {'neg': 0.054, 'neu': 0.866, 'pos': 0.079, 'compound': 0.25}\n",
      "That has left the facilities in a crisis, desperate to find other labs to process tests for a particularly vulnerable population. {'neg': 0.323, 'neu': 0.677, 'pos': 0.0, 'compound': -0.8221}\n",
      "“Everyone is scrambling,” said Robert Vande Merwe, the executive director of the Idaho Health Care Association. {'neg': 0.0, 'neu': 0.824, 'pos': 0.176, 'compound': 0.4939}\n",
      "Louisiana has also seen testing delays. {'neg': 0.0, 'neu': 1.0, 'pos': 0.0, 'compound': 0.0}\n",
      "Dr. Jennifer Avegno, the director of the New Orleans Health Department, said the problem her agency was seeing now was different than the one it experienced in March, when states competed over swabs and test tubes. {'neg': 0.072, 'neu': 0.928, 'pos': 0.0, 'compound': -0.4019}\n",
      "Now the problem is a shortage of reagents, she said, which are the chemical ingredients needed to detect whether the coronavirus is present in a sample. {'neg': 0.164, 'neu': 0.836, 'pos': 0.0, 'compound': -0.5719}\n",
      "The supply chain issues have led officials in New Orleans to reduce the tests they carry out: At one site on Monday, officials handed out just 150 tickets for testing, which were gone in minutes. {'neg': 0.0, 'neu': 1.0, 'pos': 0.0, 'compound': 0.0}\n",
      "“We are telling everyone to do all the things you are supposed to do, and if they have any concerns about exposure or close contact or are feeling sick, there will be a test for you,” Dr. Avegno said. {'neg': 0.079, 'neu': 0.885, 'pos': 0.036, 'compound': -0.4215}\n",
      "“And yet we’re starting to have to turn them away,” she said. {'neg': 0.0, 'neu': 1.0, 'pos': 0.0, 'compound': 0.0}\n",
      "“That is not what we want to do.”\n",
      "The urgent demand for tests also was affecting regions outside of those hardest hit. {'neg': 0.116, 'neu': 0.808, 'pos': 0.077, 'compound': 0.0201}\n",
      "In Omaha, a drive-through testing site in the parking lot of a former grocery store abruptly closed on Saturday. {'neg': 0.0, 'neu': 1.0, 'pos': 0.0, 'compound': 0.0}\n",
      "Lab supplies fell short in the city, partly because they were needed in communities with bigger outbreaks than in Nebraska, where cases are prevalent but remain steady. {'neg': 0.0, 'neu': 1.0, 'pos': 0.0, 'compound': 0.0}\n",
      "“We’re getting put down on the priority list,” said Dr. Anne O’Keefe, senior epidemiologist with the Douglas County Health Department in Omaha, citing a decision by the manufacturers of high-volume testing machines to prioritize supplies for those machines for other states before Nebraska. {'neg': 0.0, 'neu': 1.0, 'pos': 0.0, 'compound': 0.0}\n",
      "The site in Omaha had tested nearly 3,500 people since it opened on June 17. {'neg': 0.0, 'neu': 1.0, 'pos': 0.0, 'compound': 0.0}\n",
      "Officials said they did not know when it would reopen. {'neg': 0.0, 'neu': 1.0, 'pos': 0.0, 'compound': 0.0}\n",
      "“We really wanted to provide that extra capacity, to give people better options,” Dr. O’Keefe said. {'neg': 0.0, 'neu': 0.838, 'pos': 0.162, 'compound': 0.4404}\n",
      "“We’re very, very disappointed that we can’t do it.”\n",
      "Reporting was contributed by Mike Baker, Kimiko de Freytas-Tamura, Sheryl Gay Stolberg, Zolan Kanno-Youngs, Katie Rogers, Mark Walker and Elizabeth Williamson. {'neg': 0.112, 'neu': 0.888, 'pos': 0.0, 'compound': -0.5678}\n",
      "Advertisement {'neg': 0.0, 'neu': 1.0, 'pos': 0.0, 'compound': 0.0}\n"
     ]
    }
   ],
   "source": [
    "url = \"https://www.nytimes.com/2020/07/06/us/coronavirus-test-shortage.html\"\n",
    "\n",
    "txt = url_to_transcript(url)\n",
    "data = nltk.tokenize.sent_tokenize(txt)\n",
    "print(len(data))\n",
    "analyzer = SentimentIntensityAnalyzer()\n",
    "\n",
    "neutralsentences = 0\n",
    "positivesentences = 0\n",
    "negativesentences = 0\n",
    "\n",
    "for sentence in data:\n",
    "    vs = analyzer.polarity_scores(sentence)\n",
    "    if vs[\"compound\"] >= 0.5 :\n",
    "        positivesentences= positivesentences + 1\n",
    "    elif vs[\"compound\"] <= -0.5 :\n",
    "        negativesentences= negativesentences + 1\n",
    "    else :\n",
    "        neutralsentences= neutralsentences + 1\n",
    "    print(sentence , str(vs))\n"
   ]
  },
  {
   "cell_type": "code",
   "execution_count": 4,
   "metadata": {},
   "outputs": [
    {
     "name": "stdout",
     "output_type": "stream",
     "text": [
      "22.58064516129032: Opinion Overall\n",
      "16.129032258064516: Opinion Negative\n",
      "6.451612903225806: Opinion Positive\n"
     ]
    }
   ],
   "source": [
    "opinionrateoverall = ((positivesentences + negativesentences) / len(data))*100\n",
    "print(str(opinionrateoverall) + \": Opinion Overall\")\n",
    "opinionnegative = (negativesentences / len(data)) * 100\n",
    "opinionpositive = (positivesentences / len(data)) * 100\n",
    "print(str(opinionnegative) + \": Opinion Negative\")\n",
    "print(str(opinionpositive) + \": Opinion Positive\")"
   ]
  }
 ],
 "metadata": {
  "kernelspec": {
   "display_name": "Python 3",
   "language": "python",
   "name": "python3"
  },
  "language_info": {
   "codemirror_mode": {
    "name": "ipython",
    "version": 3
   },
   "file_extension": ".py",
   "mimetype": "text/x-python",
   "name": "python",
   "nbconvert_exporter": "python",
   "pygments_lexer": "ipython3",
   "version": "3.7.4"
  }
 },
 "nbformat": 4,
 "nbformat_minor": 2
}
