{
 "cells": [
  {
   "cell_type": "code",
   "execution_count": 1,
   "metadata": {},
   "outputs": [],
   "source": [
    "import string\n",
    "import re\n",
    "from collections import Counter\n",
    "from nltk.tokenize import word_tokenize\n",
    "from nltk.corpus import stopwords\n",
    "from bs4 import BeautifulSoup\n",
    "import requests\n",
    "import nltk"
   ]
  },
  {
   "cell_type": "code",
   "execution_count": 2,
   "metadata": {},
   "outputs": [],
   "source": [
    "def url_to_transcript(url):\n",
    "    page = requests.get(url).text\n",
    "    soup = BeautifulSoup(page, \"lxml\")\n",
    "    paragraph_list = soup.find_all('p')\n",
    "    paragraph_text = ''\n",
    "    for paragraph in paragraph_list:\n",
    "        paragraph_text = paragraph_text + '\\n' + paragraph.get_text()\n",
    "    print(url)\n",
    "    return paragraph_text"
   ]
  },
  {
   "cell_type": "code",
   "execution_count": 3,
   "metadata": {
    "scrolled": true
   },
   "outputs": [
    {
     "name": "stdout",
     "output_type": "stream",
     "text": [
      "https://www.nytimes.com/2020/05/24/world/europe/italy-farms-coronavirus.html?action=click&module=Spotlight&pgtype=Homepage\n",
      "['advertisement', 'supported', 'coronavirus', 'drastically', 'reorders', 'society', 'economies', 'italians', 'returning', 'agricultural', 'jobs', 'grandparents', 'jason', 'horowitz', 'corcolle', 'italy', 'small', 'farm', 'outside', 'rome', 'workers', 'crouched', 'corridors', 'cornfield', 'tended', 'stalks', 'coming', 'harvest', 'ones', 'morocco', 'romania', 'nigeria', 'knew', 'exactly', 'new', 'italian', 'hires', 'needed', 'help', 'get', 'rid', 'farm', 'owner', 'told', 'massimiliano', 'cassina', 'pointing', 'cobs', 'bottom', 'plant', 'weeks', 'ago', 'mr', 'cassina', 'running', 'fabric', 'company', 'international', 'clients', 'specialized', 'sports', 'tshirts', 'coronavirus', 'pandemic', 'killed', 'italians', 'wrecked', 'national', 'economy', 'also', 'dealt', 'deathblow', 'business', 'desperate', 'paycheck', 'became', 'one', 'increasing', 'number', 'italians', 'seeking', 'future', 'country', 'agrarian', 'past', 'gave', 'chance', 'mr', 'cassina', 'wearing', 'blue', 'mask', 'blue', 'rubber', 'gloves', 'sweatstained', 'shirt', 'said', 'italy', 'industrialized', 'world', 'war', 'ii', 'never', 'really', 'looked', 'back', 'virus', 'drastically', 'reordered', 'society', 'economies', 'locking', 'seasonal', 'workers', 'home', 'countries', 'marooning', 'italians', 'worked', 'retail', 'entertainment', 'fashion', 'oncemighty', 'industries', 'recently', 'return', 'land', 'seemed', 'reserved', 'natural', 'wine', 'hipsters', 'gentry', 'sowing', 'boutique', 'gardens', 'ancient', 'seeds', 'italians', 'considering', 'work', 'grandparents', 'laborers', 'large', 'farms', 'increasingly', 'essential', 'feed', 'paralyzed', 'country', 'continent', 'without', 'hundreds', 'tons', 'broccoli', 'fava', 'beans', 'fruit', 'vegetables', 'danger', 'withering', 'vine', 'rotting', 'ground', 'virus', 'forced', 'us', 'rethink', 'models', 'development', 'way', 'country', 'works', 'teresa', 'bellanova', 'italy', 'agricultural', 'minister', 'former', 'farmhand', 'said', 'interview', 'said', 'virus', 'required', 'italy', 'remained', 'vanguard', 'epidemic', 'consequences', 'europe', 'confront', 'scarcity', 'food', 'many', 'levels', 'population', 'including', 'unemployed', 'young', 'professionals', 'agriculture', 'needed', 'new', 'generations', 'find', 'future', 'agriculture', 'needed', 'shake', 'backward', 'stigma', 'europe', 'preindustrial', 'pretechnological', 'past', 'emphasize', 'use', 'sophisticated', 'technology', 'machinery', 'chemistry', 'said', 'discussed', 'shift', 'french', 'counterpart', 'true', 'spain', 'germany', 'beyond', 'virus', 'laid', 'waste', 'sectors', 'agriculture', 'mean', 'return', 'hoe', 'said', 'italians', 'need', 'fields', 'survive', 'farms', 'also', 'suddenly', 'need', 'italians', 'despite', 'vigorous', 'lobbying', 'agricultural', 'groups', 'create', 'socalled', 'green', 'corridors', 'ease', 'arrival', 'seasonal', 'workers', 'romania', 'poland', 'india', 'elsewhere', 'locked', 'italy', 'time', 'italians', 'previously', 'constituted', 'percent', 'italy', 'roughly', 'million', 'agricultural', 'workers', 'finding', 'restaurants', 'tour', 'companies', 'stores', 'shuttered', 'safer', 'working', 'conditions', 'outdoors', 'proving', 'attractive', 'paycheck', 'italy', 'leading', 'agricultural', 'associations', 'set', 'websites', 'names', 'like', 'agrijob', 'jobincountry', 'drawn', 'applications', 'italians', 'fill', 'shortfall', 'manna', 'heaven', 'paolo', 'figna', 'lost', 'job', 'waiter', 'described', 'work', 'picking', 'strawberries', 'farm', 'outside', 'verona', 'transition', 'many', 'easy', 'agricultural', 'work', 'become', 'foreign', 'italians', 'seasonal', 'workers', 'countries', 'filled', 'ranks', 'farm', 'hands', 'decades', 'massimiliano', 'giansanti', 'president', 'confagricoltura', 'one', 'italy', 'largest', 'agricultural', 'associations', 'said', 'many', 'interested', 'work', 'necessary', 'training', 'experience', 'agriculture', 'picking', 'red', 'apple', 'tree', 'said', 'explaining', 'far', 'house', 'garden', 'idyll', 'italian', 'imagination', 'farming', 'modern', 'industry', 'required', 'knowhow', 'commitment', 'flexibility', 'said', 'majority', 'italians', 'inquiring', 'positions', 'posted', 'association', 'agrijob', 'platform', 'still', 'considered', 'gardening', 'bruno', 'francescon', 'owner', 'melon', 'farm', 'mantova', 'hired', 'italians', 'worked', 'hotels', 'driven', 'buses', 'said', 'missed', 'professionally', 'prepared', 'workers', 'india', 'morocco', 'influx', 'italians', 'said', 'compensate', 'lack', 'skills', 'italians', 'hired', 'simply', 'ran', 'away', 'others', 'found', 'fields', 'envisioned', 'career', 'connected', 'land', 'connected', 'anna', 'flora', 'grew', 'enchanted', 'stories', 'grandfather', 'horse', 'farm', 'sell', 'children', 'showed', 'interest', 'continuing', 'passion', 'land', 'remained', 'though', 'february', 'found', 'job', 'selling', 'hail', 'insurance', 'farms', 'around', 'italy', 'virus', 'struck', 'firm', 'closed', 'applied', 'sporting', 'goods', 'pet', 'food', 'shops', 'salesperson', 'closed', 'town', 'ferrara', 'advertised', 'program', 'replace', 'missing', 'seasonal', 'laborers', 'local', 'workers', 'ms', 'flora', 'applied', 'weeks', 'picking', 'strawberries', 'said', 'found', 'work', 'fulfilling', 'also', 'gainful', 'plus', 'said', 'grandfather', 'happy', 'ms', 'flora', 'one', 'applicants', 'positions', 'posted', 'agrijob', 'website', 'substitute', 'missing', 'polish', 'workers', 'farm', 'owned', 'franco', 'baraldi', 'mr', 'baraldi', 'said', 'italians', 'hired', 'people', 'worked', 'bakeries', 'cafes', 'supermarkets', 'know', 'beginning', 'caught', 'said', 'many', 'earned', 'anything', 'since', 'march', 'received', 'help', 'promised', 'government', 'several', 'asked', 'stay', 'strawberry', 'harvest', 'apricot', 'peach', 'season', 'said', 'hoped', 'could', 'future', 'agriculture', 'depended', 'government', 'help', 'since', 'grandfather', 'days', 'running', 'farm', 'said', 'state', 'abandoned', 'industry', 'young', 'follow', 'parents', 'fields', 'one', 'helped', 'without', 'subsidies', 'given', 'industries', 'said', 'farms', 'make', 'profit', 'creating', 'conditions', 'unscrupulous', 'landowners', 'underpay', 'foreign', 'workers', 'updated', 'june', 'scientists', 'around', 'country', 'tried', 'identify', 'everyday', 'materials', 'good', 'job', 'filtering', 'microscopic', 'particles', 'recent', 'tests', 'hepa', 'furnace', 'filters', 'scored', 'high', 'vacuum', 'cleaner', 'bags', 'fabric', 'similar', 'flannel', 'pajamas', 'pillowcases', 'materials', 'tested', 'included', 'layered', 'coffee', 'filters', 'scarves', 'bandannas', 'scored', 'lower', 'still', 'captured', 'small', 'percentage', 'particles', 'commentary', 'published', 'month', 'website', 'british', 'journal', 'sports', 'medicine', 'points', 'covering', 'face', 'exercise', 'comes', 'issues', 'potential', 'breathing', 'restriction', 'discomfort', 'requires', 'balancing', 'benefits', 'versus', 'possible', 'adverse', 'events', 'masks', 'alter', 'exercise', 'says', 'cedric', 'x', 'bryant', 'president', 'chief', 'science', 'officer', 'american', 'council', 'exercise', 'nonprofit', 'organization', 'funds', 'exercise', 'research', 'certifies', 'fitness', 'professionals', 'personal', 'experience', 'says', 'heart', 'rates', 'higher', 'relative', 'intensity', 'wear', 'mask', 'people', 'also', 'could', 'experience', 'lightheadedness', 'familiar', 'workouts', 'masked', 'says', 'len', 'kravitz', 'professor', 'exercise', 'science', 'university', 'new', 'mexico', 'steroid', 'dexamethasone', 'first', 'treatment', 'shown', 'reduce', 'mortality', 'severely', 'ill', 'patients', 'according', 'scientists', 'britain', 'drug', 'appears', 'reduce', 'inflammation', 'caused', 'immune', 'system', 'protecting', 'tissues', 'study', 'dexamethasone', 'reduced', 'deaths', 'patients', 'ventilators', 'onethird', 'deaths', 'patients', 'oxygen', 'onefifth', 'coronavirus', 'emergency', 'relief', 'package', 'gives', 'many', 'american', 'workers', 'paid', 'leave', 'need', 'take', 'time', 'virus', 'gives', 'qualified', 'workers', 'two', 'weeks', 'paid', 'sick', 'leave', 'ill', 'quarantined', 'seeking', 'diagnosis', 'preventive', 'care', 'coronavirus', 'caring', 'sick', 'family', 'members', 'gives', 'weeks', 'paid', 'leave', 'people', 'caring', 'children', 'whose', 'schools', 'closed', 'whose', 'child', 'care', 'provider', 'unavailable', 'coronavirus', 'first', 'time', 'united', 'states', 'widespread', 'federally', 'mandated', 'paid', 'leave', 'includes', 'people', 'typically', 'get', 'benefits', 'like', 'parttime', 'gig', 'economy', 'workers', 'measure', 'excludes', 'least', 'half', 'privatesector', 'workers', 'including', 'country', 'largest', 'employers', 'gives', 'small', 'employers', 'significant', 'leeway', 'deny', 'leave', 'far', 'evidence', 'seems', 'show', 'widely', 'cited', 'paper', 'published', 'april', 'suggests', 'people', 'infectious', 'two', 'days', 'onset', 'coronavirus', 'symptoms', 'estimated', 'percent', 'new', 'infections', 'result', 'transmission', 'people', 'yet', 'showing', 'symptoms', 'recently', 'top', 'expert', 'world', 'health', 'organization', 'stated', 'transmission', 'coronavirus', 'people', 'symptoms', 'rare', 'later', 'walked', 'back', 'statement', 'touching', 'contaminated', 'objects', 'infecting', 'germs', 'typically', 'virus', 'spreads', 'happen', 'number', 'studies', 'flu', 'rhinovirus', 'coronavirus', 'microbes', 'shown', 'respiratory', 'illnesses', 'including', 'new', 'coronavirus', 'spread', 'touching', 'contaminated', 'surfaces', 'particularly', 'places', 'like', 'day', 'care', 'centers', 'offices', 'hospitals', 'long', 'chain', 'events', 'happen', 'disease', 'spread', 'way', 'best', 'way', 'protect', 'coronavirus', 'whether', 'surface', 'transmission', 'close', 'human', 'contact', 'still', 'social', 'distancing', 'washing', 'hands', 'touching', 'face', 'wearing', 'masks', 'study', 'european', 'scientists', 'first', 'document', 'strong', 'statistical', 'link', 'genetic', 'variations', 'illness', 'caused', 'coronavirus', 'type', 'blood', 'linked', 'percent', 'increase', 'likelihood', 'patient', 'would', 'need', 'get', 'oxygen', 'go', 'ventilator', 'according', 'new', 'study', 'unemployment', 'rate', 'fell', 'percent', 'may', 'labor', 'department', 'said', 'june', 'unexpected', 'improvement', 'nation', 'job', 'market', 'hiring', 'rebounded', 'faster', 'economists', 'expected', 'economists', 'forecast', 'unemployment', 'rate', 'increase', 'much', 'percent', 'hit', 'percent', 'april', 'highest', 'since', 'government', 'began', 'keeping', 'official', 'statistics', 'world', 'war', 'ii', 'unemployment', 'rate', 'dipped', 'instead', 'employers', 'adding', 'million', 'jobs', 'million', 'jobs', 'lost', 'april', 'common', 'symptoms', 'include', 'fever', 'dry', 'cough', 'fatigue', 'difficulty', 'breathing', 'shortness', 'breath', 'symptoms', 'overlap', 'flu', 'making', 'detection', 'difficult', 'runny', 'noses', 'stuffy', 'sinuses', 'less', 'common', 'cdc', 'also', 'added', 'chills', 'muscle', 'pain', 'sore', 'throat', 'headache', 'new', 'loss', 'sense', 'taste', 'smell', 'symptoms', 'look', 'people', 'fall', 'ill', 'five', 'seven', 'days', 'exposure', 'symptoms', 'may', 'appear', 'two', 'days', 'many', 'days', 'air', 'travel', 'unavoidable', 'steps', 'take', 'protect', 'important', 'wash', 'hands', 'often', 'stop', 'touching', 'face', 'possible', 'choose', 'window', 'seat', 'study', 'emory', 'university', 'found', 'flu', 'season', 'safest', 'place', 'sit', 'plane', 'window', 'people', 'sitting', 'window', 'seats', 'less', 'contact', 'potentially', 'sick', 'people', 'disinfect', 'hard', 'surfaces', 'get', 'seat', 'hands', 'clean', 'use', 'disinfecting', 'wipes', 'clean', 'hard', 'surfaces', 'seat', 'like', 'head', 'arm', 'rest', 'seatbelt', 'buckle', 'remote', 'screen', 'seat', 'back', 'pocket', 'tray', 'table', 'seat', 'hard', 'nonporous', 'leather', 'pleather', 'wipe', 'using', 'wipes', 'upholstered', 'seats', 'could', 'lead', 'wet', 'seat', 'spreading', 'germs', 'rather', 'killing', 'exposed', 'coronavirus', 'think', 'fever', 'symptoms', 'like', 'cough', 'difficulty', 'breathing', 'call', 'doctor', 'give', 'advice', 'whether', 'tested', 'get', 'tested', 'seek', 'medical', 'treatment', 'without', 'potentially', 'infecting', 'exposing', 'others', 'month', 'italian', 'government', 'set', 'aside', 'billion', 'euros', 'billion', 'subsidies', 'farmers', 'part', 'relief', 'package', 'measure', 'became', 'source', 'acrimonious', 'political', 'debate', 'though', 'also', 'included', 'pathway', 'legalization', 'undocumented', 'workers', 'fields', 'ms', 'bellanova', 'choked', 'announcing', 'measure', 'said', 'interview', 'would', 'help', 'integration', 'italy', 'also', 'fill', 'shortfall', 'laborers', 'created', 'virus', 'critics', 'said', 'legalization', 'would', 'little', 'compensate', 'labor', 'shortfall', 'undocumented', 'workers', 'already', 'working', 'fields', 'exploitative', 'conditions', 'grossly', 'underpaid', 'overworked', 'populists', 'italian', 'government', 'argued', 'minister', 'exploiting', 'epidemic', 'progressive', 'agenda', 'austin', 'okoro', 'nigerian', 'work', 'permit', 'picked', 'corn', 'mr', 'cassina', 'outside', 'rome', 'said', 'friends', 'without', 'legal', 'status', 'would', 'jump', 'job', 'like', 'also', 'said', 'begrudge', 'italians', 'joined', 'cornfield', 'fine', 'said', 'smile', 'main', 'question', 'though', 'remained', 'absence', 'trained', 'seasonal', 'workers', 'getting', 'enough', 'workers', 'time', 'coming', 'harvests', 'confagricoltura', 'organized', 'flights', 'carrying', 'hundreds', 'moroccan', 'workers', 'paid', 'privately', 'farms', 'arrive', 'italy', 'week', 'wine', 'grower', 'northern', 'region', 'alto', 'adige', 'complained', 'italians', 'hired', 'bailed', 'chartered', 'flight', 'bring', 'eight', 'seasoned', 'romanian', 'workers', 'vineyard', 'compared', 'germany', 'allowed', 'arrival', 'tens', 'thousands', 'seasonal', 'laborers', 'amounted', 'drop', 'bucket', 'italy', 'experience', 'echoed', 'parts', 'europe', 'prince', 'charles', 'queen', 'elizabeth', 'ii', 'eldest', 'son', 'heir', 'british', 'throne', 'urged', 'furloughed', 'workers', 'across', 'nation', 'join', 'government', 'campaign', 'aimed', 'finding', 'farm', 'labor', 'pick', 'britain', 'save', 'season', 'crops', 'country', 'faces', 'dearth', 'migrant', 'workers', 'italy', 'officials', 'farmers', 'looked', 'potential', 'pool', 'laborers', 'among', 'poorest', 'italians', 'many', 'live', 'country', 'economically', 'depressed', 'south', 'started', 'receiving', 'monthly', 'universal', 'income', 'check', 'francesco', 'amore', 'grows', 'tomatoes', 'near', 'caserta', 'southern', 'region', 'campania', 'burst', 'laughing', 'asked', 'thought', 'people', 'would', 'give', 'guaranteed', 'welfare', 'checks', 'go', 'back', 'fields', 'month', 'government', 'created', 'possibility', 'recipients', 'benefit', 'put', 'hold', 'days', 'found', 'job', 'agriculture', 'nazaro', 'lo', 'iacono', 'lives', 'near', 'caserta', 'received', 'basic', 'income', 'subsidy', 'said', 'new', 'guarantee', 'would', 'happily', 'let', 'someone', 'else', 'temporarily', 'take', 'welfare', 'check', 'return', 'pick', 'tomatoes', 'done', 'youth', 'long', 'received', 'proper', 'contract', 'problem', 'said', 'dishonest', 'farm', 'owners', 'chased', 'italians', 'away', 'slashing', 'wages', 'underpaying', 'exploited', 'foreigners', 'grew', 'distant', 'earth', 'reason', 'said', 'back', 'cornfield', 'mr', 'cassina', 'said', 'missed', 'old', 'life', 'got', 'hands', 'knees', 'dirtying', 'shorts', 'farm', 'owner', 'vittorio', 'galasso', 'observed', 'progress', 'getting', 'used', 'said', 'emma', 'bubola', 'contributed', 'reporting', 'milan', 'advertisement'] 1476\n"
     ]
    }
   ],
   "source": [
    "url='https://www.nytimes.com/2020/05/24/world/europe/italy-farms-coronavirus.html?action=click&module=Spotlight&pgtype=Homepage'\n",
    "text = url_to_transcript(url)\n",
    "lower_text = text.lower()\n",
    "tokens = word_tokenize(lower_text)\n",
    "table = str.maketrans('', '', string.punctuation)\n",
    "stripped = [w.translate(table) for w in tokens]\n",
    "words = [word for word in stripped if word.isalpha()]\n",
    "stop_words = set(stopwords.words('english'))\n",
    "words = [w for w in words if not w in stop_words]\n",
    "print(words,len(words))"
   ]
  },
  {
   "cell_type": "code",
   "execution_count": 4,
   "metadata": {
    "scrolled": true
   },
   "outputs": [
    {
     "name": "stdout",
     "output_type": "stream",
     "text": [
      "Counter({' attracted': 3, ' sad': 2, ' attached': 2, ' happy': 2, ' esteemed': 2, ' average': 1, ' cheated': 1, ' fearful': 1, ' powerless': 1, ' entitled': 1, ' lost': 1, ' adequate': 1, ' independent': 1, ' hated': 1, ' angry': 1})\n"
     ]
    }
   ],
   "source": [
    "emotion_list = []\n",
    "with open('emotions.txt','r') as file:\n",
    "    for line in file:\n",
    "        clear_line = line.replace('\\n','').replace(',','').replace(\"'\",'').strip()\n",
    "        word, emotion = clear_line.split(':')\n",
    "        if word in words : \n",
    "            emotion_list.append(emotion)\n",
    "emotion_dict = Counter(emotion_list)\n",
    "print(emotion_dict)"
   ]
  },
  {
   "cell_type": "code",
   "execution_count": 5,
   "metadata": {},
   "outputs": [
    {
     "name": "stdout",
     "output_type": "stream",
     "text": [
      "0.014227642276422764\n"
     ]
    }
   ],
   "source": [
    "emotionscore = 0\n",
    "for value in emotion_dict.values():\n",
    "    emotionscore = emotionscore + value\n",
    "\n",
    "emotionrate = emotionscore/len(words)\n",
    "print(emotionrate)"
   ]
  },
  {
   "cell_type": "code",
   "execution_count": null,
   "metadata": {},
   "outputs": [],
   "source": []
  }
 ],
 "metadata": {
  "kernelspec": {
   "display_name": "Python 3",
   "language": "python",
   "name": "python3"
  },
  "language_info": {
   "codemirror_mode": {
    "name": "ipython",
    "version": 3
   },
   "file_extension": ".py",
   "mimetype": "text/x-python",
   "name": "python",
   "nbconvert_exporter": "python",
   "pygments_lexer": "ipython3",
   "version": "3.7.4"
  }
 },
 "nbformat": 4,
 "nbformat_minor": 2
}
